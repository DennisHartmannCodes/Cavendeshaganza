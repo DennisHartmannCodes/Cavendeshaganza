{
 "cells": [
  {
   "cell_type": "code",
   "execution_count": 5,
   "id": "a7fccf4d",
   "metadata": {},
   "outputs": [],
   "source": [
    "import math\n",
    "#Arrays containing values of variables at an index\n",
    "\n",
    "barr = [.047] #array of values for b in m\n",
    "darr = [.050] #array of values for b in m\n",
    "marr = [1.5] #array of values for m_1 in kg\n",
    "s_1arr = [-0.016] #array of values for s_1\n",
    "s_2arr = [0.071] #array of values for s_2\n",
    "tarr = [630] #array of values for T\n",
    "L_0arr = [2.33] #array of values for L_0\n",
    "L_1arr = [0.0271] #array of values for L_1\n",
    "\n",
    "#Arrays containing the uncertainties in each variable\n",
    "\n",
    "bunarr = [.001] #array of uncertainty values for b in m\n",
    "dunarr = [.01] #array of uncertainty values for b in m\n",
    "munarr = [.1] #array of uncertainty values for m_1 in kg\n",
    "s_1unarr = [.005] #array of uncertainty values for s_1\n",
    "s_2unarr = [.003] #array of uncertainty values for s_2\n",
    "tunarr = [7] #array of uncertainty values for T\n",
    "L_0unarr = [.01] #array of uncertainty values for L_0\n",
    "L_1unarr = [.002] #array of uncertainty values for L_1\n",
    "\n",
    "#Functions representing individual uncertainties in specific variables\n",
    "\n",
    "def db(index): #b unceratainty\n",
    "    db = (2*math.pi**2*barr[index]*darr[index]*L_0arr[index]*(s_1arr[index] - s_2arr[index]))/(marr[index]*tarr[index]**2*(L_0arr[index]**2 + L_1arr[index]**2))\n",
    "    return db*bunarr[index]\n",
    "\n",
    "def dd(index): #d uncertainty\n",
    "    dd = (math.pi**2*barr[index]**2*L_0arr[index]*(s_1arr[index] - s_2arr[index]))/(marr[index]*tarr[index]**2*(L_0arr[index]**2 + L_1arr[index]**2))\n",
    "    return dd*dunarr[index]\n",
    "\n",
    "def dm(index): #m_1 uncertainty\n",
    "    dm = (math.pi**2*barr[index]**2*darr[index]*L_0arr[index]*(s_1arr[index] - s_2arr[index]))/(marr[index]**2*tarr[index]**2*(L_0arr[index]**2 + L_1arr[index]**2))\n",
    "    return dm*munarr[index]\n",
    "\n",
    "def ds1(index): #S_1 uncertainty\n",
    "    ds1 = (math.pi**2*barr[index]**2*darr[index]*L_0arr[index])/(marr[index]*tarr[index]**2*(L_0arr[index]**2 + L_1arr[index]**2))\n",
    "    return ds1*s_1unarr[index]\n",
    "\n",
    "def ds2(index): #S_2 uncertainty\n",
    "    ds2 = (math.pi**2*barr[index]**2*darr[index]*L_0arr[index])/(marr[index]*tarr[index]**2*(L_0arr[index]**2 + L_1arr[index]**2))\n",
    "    return ds2*s_2unarr[index]\n",
    "\n",
    "def dt(index): #T uncertainty\n",
    "    dt = (2*math.pi**2*barr[index]**2*darr[index]*L_0arr[index])/(marr[index]*tarr[index]**3*(L_0arr[index]**2 + L_1arr[index]**2))\n",
    "    return dt*tunarr[index]\n",
    "\n",
    "def dl0(index): #L_0 uncertainty\n",
    "    dl0 = (math.pi**2*barr[index]**2*darr[index]*(L_1arr[index]**2 - L_0arr[index]**2)*(s_1arr[index] - s_2arr[index]))/(marr[index]*tarr[index]**2*(L_0arr[index]**2 + L_1arr[index]**2)**2)\n",
    "    return dl0*L_0unarr[index]\n",
    "\n",
    "def dl1(index): #L_1 uncertainty\n",
    "    dl1s = (2*math.pi**2*barr[index]**2*darr[index]*L_1arr[index]*L_0arr[index]*(s_1arr[index] - s_2arr[index]))/(marr[index]*tarr[index]**2*(L_0arr[index]**2 + L_1arr[index]**2)**2)\n",
    "    return dl1s*L_1unarr[index]"
   ]
  },
  {
   "cell_type": "code",
   "execution_count": 6,
   "id": "77d76e3c",
   "metadata": {},
   "outputs": [
    {
     "name": "stdout",
     "output_type": "stream",
     "text": [
      "2.3283248222571775e-11\n"
     ]
    }
   ],
   "source": [
    "#Final calculation of error for the end deflection method\n",
    "\n",
    "def dG(index):\n",
    "    dG = (db(index)**2 + dd(index)**2 + dm(index)**2 + ds1(index)**2 + ds2(index)**2 + dt(index)**2 + dl1(index)**2 + dl0(index)**2)**0.5\n",
    "    return dG\n",
    "\n",
    "print(dG(0))\n"
   ]
  },
  {
   "cell_type": "code",
   "execution_count": 7,
   "id": "0c7797c8",
   "metadata": {},
   "outputs": [],
   "source": [
    "import math\n",
    "#Arrays containing values of variables at an index\n",
    "\n",
    "barrs = [.047] #array of values for b in m\n",
    "darrs = [.050] #array of values for b in m\n",
    "marrs = [1.5] #array of values for m_1 in kg\n",
    "L_0arrs = [2.33] #array of values for L_0\n",
    "L_1arrs = [0.0271] #array of values for L_1\n",
    "sarrs = [1.8e-6] #array of values for slope\n",
    "\n",
    "#Arrays containing the uncertainties in each variable\n",
    "\n",
    "bunarrs = [.001] #array of uncertainty values for b in m\n",
    "dunarrs = [.01] #array of uncertainty values for b in m\n",
    "munarrs = [.1] #array of uncertainty values for m_1 in kg\n",
    "L_0unarrs = [.01] #array of uncertainty values for L_0\n",
    "L_1unarrs = [.0002] #array of uncertainty values for L_1\n",
    "sunarrs = [2e-7] #array of uncertainty values for slope\n",
    "\n",
    "#Functions representing individual uncertainties in specific variables\n",
    "\n",
    "def dbs(index): #b unceratainty\n",
    "    dbs = (barrs[index]*darrs[index]*L_0arrs[index]/(marrs[index]*(L_0arrs[index]**2 + L_1arrs[index]**2))*sarrs[index])\n",
    "    return dbs*bunarrs[index]\n",
    "\n",
    "def dds(index): #d uncertainty\n",
    "    dds = (barrs[index]**2*L_0arrs[index]/(2*marrs[index]*(L_0arrs[index]**2 + L_1arrs[index]**2))*sarrs[index])\n",
    "    return dds*dunarrs[index]\n",
    "\n",
    "def dms(index): #m_1 uncertainty\n",
    "    dms = (barrs[index]**2*darrs[index]*L_0arrs[index]/(2*marrs[index]**2*(L_0arrs[index]**2 + L_1arrs[index]**2))*sarrs[index])\n",
    "    return dms*munarrs[index]\n",
    "\n",
    "def dl0s(index): #L_0 uncertainty\n",
    "    dl0s = (barrs[index]**2*darrs[index]*(L_1arrs[index]**2 - L_0arrs[index]**2)/(2*marrs[index]*(L_0arrs[index]**2 + L_1arrs[index]**2)**2)*sarrs[index])\n",
    "    return dl0s*L_0unarrs[index]\n",
    "\n",
    "def dl1s(index): #L_1 uncertainty\n",
    "    dl1s = (barrs[index]**2*darrs[index]*L_1arrs[index]*L_0arrs[index]/(marrs[index]*(L_0arrs[index]**2 + L_1arrs[index]**2)**2)*sarrs[index])\n",
    "    return dl1s*L_1unarrs[index]\n",
    "\n",
    "def dss(index): #slope uncertainty\n",
    "    dss = (barrs[index]**2*darrs[index]*L_0arrs[index]*L_1arrs[index])/(2*marrs[index]*(L_0arrs[index]**2 + L_1arrs[index]**2))\n",
    "    return dss*sunarrs[index]"
   ]
  },
  {
   "cell_type": "code",
   "execution_count": 8,
   "id": "178b9bb6",
   "metadata": {},
   "outputs": [
    {
     "name": "stdout",
     "output_type": "stream",
     "text": [
      "6.123841747891922e-12\n"
     ]
    }
   ],
   "source": [
    "#Final calculation of error for the acceleration method \n",
    "\n",
    "def dGs(index):\n",
    "    dGs = (dbs(index)**2 + dds(index)**2 + dms(index)**2 + dl1(index)**2 + dl0(index)**2 + dss(index)**2)**0.5\n",
    "    return dGs\n",
    "\n",
    "print(dGs(0))"
   ]
  },
  {
   "cell_type": "code",
   "execution_count": null,
   "id": "b9ee72c8",
   "metadata": {},
   "outputs": [],
   "source": []
  }
 ],
 "metadata": {
  "kernelspec": {
   "display_name": "Python 3",
   "language": "python",
   "name": "python3"
  },
  "language_info": {
   "codemirror_mode": {
    "name": "ipython",
    "version": 3
   },
   "file_extension": ".py",
   "mimetype": "text/x-python",
   "name": "python",
   "nbconvert_exporter": "python",
   "pygments_lexer": "ipython3",
   "version": "3.8.8"
  }
 },
 "nbformat": 4,
 "nbformat_minor": 5
}
