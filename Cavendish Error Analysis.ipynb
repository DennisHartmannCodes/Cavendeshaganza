{
 "cells": [
  {
   "cell_type": "markdown",
   "id": "7076c81e",
   "metadata": {},
   "source": [
    "We are in the buisness of figuring out the error propagation of our equation for $G$.\n",
    "\n",
    "As given by equation $X$ in the mechanics lab manual,\n",
    "\n",
    "$G = \\pi^2\\cdot\\frac{b^2\\cdot d}{m_1}\\cdot\\frac{S_I-S_{II}}{T^2}\\cdot\\frac{L_0}{L_0^2+L_1^2}$\n",
    "\n",
    "Our prefered method of error analysis is that of differentiation for a function:\n",
    "\n",
    "$\\delta G = ((\\frac{\\partial G}{\\partial b}\\delta b)^2 + (\\frac{\\partial G}{\\partial d}\\delta d)^2 + (\\frac{\\partial G}{\\partial m_1}\\delta m_1)^2 + (\\frac{\\partial G}{\\partial S_I}\\delta S_I)^2 + (\\frac{\\partial G}{\\partial S_II}\\delta S_{II})^2\\\\ + (\\frac{\\partial G}{\\partial T}\\delta T)^2 + (\\frac{\\partial G}{\\partial L_0}\\delta L_0)^2 + (\\frac{\\partial G}{\\partial L_1}\\delta L_1)^2)^{1/2}$\n",
    "\n",
    "Now we Just need to calculate all of those partial derivatives\n",
    "\n",
    "$\\frac{\\partial G}{\\partial b} = \\frac{2\\pi^2 bdL_0^2(S_I-S_{II})}{m_1T^2(L_1^2 + L_0^2)}$\n",
    "\n",
    "$\\frac{\\partial G}{\\partial d} = \\frac{\\pi^2 b^2L_0^2(S_I-S_{II})}{m_1T^2(L_1^2 + L_0^2)}$\n",
    "\n",
    "$\\frac{\\partial G}{\\partial m} = -\\frac{\\pi^2 db^2L_0^2(S_I-S_{II})}{m_1^2T^2(L_1^2 + L_0^2)}$\n",
    "\n",
    "$\\frac{\\partial G}{\\partial S_I} = \\frac{\\pi^2b^2dL_0^2}{m_1T^2(L_1^2 + L_0^2)}$\n",
    "\n",
    "$\\frac{\\partial G}{\\partial S_{II}} = -\\frac{\\pi^2b^2dL_0^2}{m_1T^2(L_1^2 + L_0^2)}$\n",
    "\n",
    "$\\frac{\\partial G}{\\partial T} = -\\frac{2\\pi^2b^2dL_0^2(S_I - S_{II})}{m_1T^3(L_1^2 + L_0^2)}$\n",
    "\n",
    "$\\frac{\\partial G}{\\partial L_0} = \\frac{2\\pi^2b^2dL_0L_1^2(S_I - S_{II})}{m_1T^2(L_1^2 + L_0^2)^2}$\n",
    "\n",
    "$\\frac{\\partial G}{\\partial L_1} = -\\frac{2\\pi^2b^2dL_0^2L_1(S_I - S_{II})}{m_1T^2(L_1^2 + L_0^2)^2}$"
   ]
  },
  {
   "cell_type": "code",
   "execution_count": 20,
   "id": "eccc0edf",
   "metadata": {},
   "outputs": [
    {
     "name": "stdout",
     "output_type": "stream",
     "text": [
      "3.0629806762001452\n"
     ]
    }
   ],
   "source": [
    "import math\n",
    "#Arrays containing values of variables at an index\n",
    "\n",
    "barr = [2] #array of values for b\n",
    "darr = [3] #array of values for b\n",
    "marr = [9] #array of values for m_1\n",
    "s_1arr = [8] #array of values for s_1\n",
    "s_2arr = [2] #array of values for s_2\n",
    "tarr = [4] #array of values for T\n",
    "L_0arr = [3] #array of values for L_0\n",
    "L_1arr = [7] #array of values for L_1\n",
    "\n",
    "#Arrays containing the uncertainties in each variable\n",
    "\n",
    "bunarr = [4] #array of uncertainty values for b\n",
    "dunarr = [] #array of uncertainty values for b\n",
    "munarr = [] #array of uncertainty values for m_1\n",
    "s_1unarr = [] #array of uncertainty values for s_1\n",
    "s_2unarr = [] #array of uncertainty values for s_2\n",
    "tunarr = [] #array of uncertainty values for T\n",
    "L_0unarr = [] #array of uncertainty values for L_0\n",
    "L_1unarr = [] #array of uncertainty values for L_1\n",
    "\n",
    "#Functions representing individual uncertainties in specific variables\n",
    "\n",
    "def db(index): #b unceratainty\n",
    "    db = (2*math.pi**2*barr[index]*darr[index]*L_0arr[index]**2*(s_1arr[index] - s_2arr[index]))/(marr[index]*tarr[index]**2*(L_0arr[index]**2 + L_1arr[index]**2))\n",
    "    return db*bunarr[index]\n",
    "\n",
    "def dd(index): #d uncertainty\n",
    "    dd = (math.pi**2*barr[index]*L_0arr[index]**2*(s_1arr[index] - s_2arr[index]))/(marr[index]*tarr[index]**2*(L_0arr[index]**2 + L_1arr[index]**2))\n",
    "    return db*bunarr[index]\n",
    "\n"
   ]
  },
  {
   "cell_type": "code",
   "execution_count": null,
   "id": "c2dadd02",
   "metadata": {},
   "outputs": [],
   "source": []
  }
 ],
 "metadata": {
  "kernelspec": {
   "display_name": "Python 3 (ipykernel)",
   "language": "python",
   "name": "python3"
  },
  "language_info": {
   "codemirror_mode": {
    "name": "ipython",
    "version": 3
   },
   "file_extension": ".py",
   "mimetype": "text/x-python",
   "name": "python",
   "nbconvert_exporter": "python",
   "pygments_lexer": "ipython3",
   "version": "3.9.12"
  }
 },
 "nbformat": 4,
 "nbformat_minor": 5
}
