{
 "cells": [
  {
   "cell_type": "markdown",
   "id": "feedd126",
   "metadata": {},
   "source": [
    "We are in the buisness of figuring out the error propagation of our equation for $G$.\n",
    "\n",
    "As given by equation $X$ in the mechanics lab manual,\n",
    "\n",
    "$G = \\pi^2\\cdot\\frac{b^2\\cdot d}{m_1}\\cdot\\frac{S_I-S_{II}}{T^2}\\cdot\\frac{L_0}{L_0^2+L_1^2}$\n",
    "\n",
    "Our prefered method of error analysis is that of differentiation for a function:\n",
    "\n",
    "$\\delta G = ((\\frac{\\partial G}{\\partial b}\\delta b)^2 + (\\frac{\\partial G}{\\partial d}\\delta d)^2 + (\\frac{\\partial G}{\\partial m_1}\\delta m_1)^2 + (\\frac{\\partial G}{\\partial S_I}\\delta S_I)^2 + (\\frac{\\partial G}{\\partial S_II}\\delta S_{II})^2\\\\ + (\\frac{\\partial G}{\\partial T}\\delta T)^2 + (\\frac{\\partial G}{\\partial L_0}\\delta L_0)^2 + (\\frac{\\partial G}{\\partial L_1}\\delta L_1)^2)^{1/2}$\n",
    "\n",
    "Now we Just need to calculate all of those partial derivatives\n",
    "\n",
    "$\\frac{\\partial G}{\\partial b} = \\frac{2\\pi^2 bdL_0(S_I-S_{II})}{m_1T^2(L_1^2 + L_0^2)}$\n",
    "\n",
    "$\\frac{\\partial G}{\\partial d} = \\frac{\\pi^2 b^2L_0(S_I-S_{II})}{m_1T^2(L_1^2 + L_0^2)}$\n",
    "\n",
    "$\\frac{\\partial G}{\\partial m} = -\\frac{\\pi^2 db^2L_0(S_I-S_{II})}{m_1^2T^2(L_1^2 + L_0^2)}$\n",
    "\n",
    "$\\frac{\\partial G}{\\partial S_I} = \\frac{\\pi^2b^2dL_0}{m_1T^2(L_1^2 + L_0^2)}$\n",
    "\n",
    "$\\frac{\\partial G}{\\partial S_{II}} = -\\frac{\\pi^2b^2dL_0}{m_1T^2(L_1^2 + L_0^2)}$\n",
    "\n",
    "$\\frac{\\partial G}{\\partial T} = -\\frac{2\\pi^2b^2dL_0(S_I - S_{II})}{m_1T^3(L_1^2 + L_0^2)}$\n",
    "\n",
    "$\\frac{\\partial G}{\\partial L_0} = \\frac{\\pi^2b^2d(L_1^2 - L_0^2)(S_I - S_{II})}{m_1T^2(L_1^2 + L_0^2)^2}$\n",
    "\n",
    "$\\frac{\\partial G}{\\partial L_1} = -\\frac{2\\pi^2b^2dL_0L_1(S_I - S_{II})}{m_1T^2(L_1^2 + L_0^2)^2}$"
   ]
  },
  {
   "cell_type": "code",
   "execution_count": 53,
   "id": "59eee9c4",
   "metadata": {},
   "outputs": [],
   "source": [
    "import math\n",
    "#Arrays containing values of variables at an index\n",
    "\n",
    "barr = [2] #array of values for b\n",
    "darr = [3] #array of values for b\n",
    "marr = [9] #array of values for m_1\n",
    "s_1arr = [8] #array of values for s_1\n",
    "s_2arr = [2] #array of values for s_2\n",
    "tarr = [4] #array of values for T\n",
    "L_0arr = [3] #array of values for L_0\n",
    "L_1arr = [7] #array of values for L_1\n",
    "\n",
    "#Arrays containing the uncertainties in each variable\n",
    "\n",
    "bunarr = [4] #array of uncertainty values for b\n",
    "dunarr = [6] #array of uncertainty values for b\n",
    "munarr = [3] #array of uncertainty values for m_1\n",
    "s_1unarr = [2] #array of uncertainty values for s_1\n",
    "s_2unarr = [8] #array of uncertainty values for s_2\n",
    "tunarr = [3] #array of uncertainty values for T\n",
    "L_0unarr = [7] #array of uncertainty values for L_0\n",
    "L_1unarr = [] #array of uncertainty values for L_1\n",
    "\n",
    "#Functions representing individual uncertainties in specific variables\n",
    "\n",
    "def db(index): #b unceratainty\n",
    "    db = (2*math.pi**2*barr[index]*darr[index]*L_0arr[index]*(s_1arr[index] - s_2arr[index]))/(marr[index]*tarr[index]**2*(L_0arr[index]**2 + L_1arr[index]**2))\n",
    "    return db*bunarr[index]\n",
    "\n",
    "def dd(index): #d uncertainty\n",
    "    dd = (math.pi**2*barr[index]**2*L_0arr[index]*(s_1arr[index] - s_2arr[index]))/(marr[index]*tarr[index]**2*(L_0arr[index]**2 + L_1arr[index]**2))\n",
    "    return dd*dunarr[index]\n",
    "\n",
    "def dm(index): #m_1 uncertainty\n",
    "    dm = (math.pi**2*barr[index]**2*dunarr[index]*L_0arr[index]*(s_1arr[index] - s_2arr[index]))/(marr[index]**2*tarr[index]**2*(L_0arr[index]**2 + L_1arr[index]**2))\n",
    "    return dm*munarr[index]\n",
    "\n",
    "def ds1(index): #S_1 uncertainty\n",
    "    ds1 = (math.pi**2*barr[index]**2*dunarr[index]*L_0arr[index])/(marr[index]*tarr[index]**2*(L_0arr[index]**2 + L_1arr[index]**2))\n",
    "    return ds1*s_1unarr[index]\n",
    "\n",
    "def ds2(index): #S_2 uncertainty\n",
    "    ds2 = (math.pi**2*barr[index]**2*dunarr[index]*L_0arr[index])/(marr[index]*tarr[index]**2*(L_0arr[index]**2 + L_1arr[index]**2))\n",
    "    return ds2*s_2unarr[index]\n",
    "\n",
    "#error for T\n",
    "\n",
    "def dt(index): #T uncertainty\n",
    "    dt = (2*math.pi**2*barr[index]**2*dunarr[index]*L_0arr[index])/(marr[index]*tarr[index]**3*(L_0arr[index]**2 + L_1arr[index]**2))\n",
    "    return dt*tunarr[index]\n",
    "\n",
    "def dl0(index): #L_0 uncertainty\n",
    "    dl0 = (2*math.pi**2*barr[index]**2*dunarr[index]*L_0arr[index](s_1arr[index] - s_2arr[index]))/(marr[index]*tarr[index]**3*(L_0arr[index]**2 + L_1arr[index]**2))\n",
    "    return dl0*L_0unarr[index]"
   ]
  },
  {
   "cell_type": "code",
   "execution_count": 54,
   "id": "4bd939d9",
   "metadata": {},
   "outputs": [
    {
     "name": "stdout",
     "output_type": "stream",
     "text": [
      "1.3566638003998386\n"
     ]
    }
   ],
   "source": [
    "#Final calculation of error\n",
    "\n",
    "def dG(index):\n",
    "    dG = (db(index)**2 + dd(index)**2 + dm(index)**2 + ds1(index)**2 + ds2(index)**2 + dt(index)**2)**0.5\n",
    "    return dG\n",
    "\n",
    "print(dG(0))"
   ]
  }
 ],
 "metadata": {
  "kernelspec": {
   "display_name": "Python 3 (ipykernel)",
   "language": "python",
   "name": "python3"
  },
  "language_info": {
   "codemirror_mode": {
    "name": "ipython",
    "version": 3
   },
   "file_extension": ".py",
   "mimetype": "text/x-python",
   "name": "python",
   "nbconvert_exporter": "python",
   "pygments_lexer": "ipython3",
   "version": "3.9.12"
  }
 },
 "nbformat": 4,
 "nbformat_minor": 5
}
